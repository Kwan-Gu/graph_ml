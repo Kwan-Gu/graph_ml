{
 "cells": [
  {
   "cell_type": "markdown",
   "id": "4f95f2ba-0e9b-4c0c-b454-805a3f418a0c",
   "metadata": {},
   "source": [
    "# 파이썬 networkx 사용해 읽기"
   ]
  },
  {
   "cell_type": "code",
   "execution_count": 1,
   "id": "7772a49c-24fd-46d2-b2e8-806520fbf5eb",
   "metadata": {},
   "outputs": [],
   "source": [
    "import networkx as nx\n",
    "\n",
    "\n",
    "G = nx.read_edgelist(\"../data_raw/snap/amazon0302/amazon0302.txt\")"
   ]
  },
  {
   "cell_type": "markdown",
   "id": "b80406ec-8895-44bb-81f4-9f22294ad298",
   "metadata": {},
   "source": [
    "# 파이썬 snap 사용해 읽기 "
   ]
  },
  {
   "cell_type": "code",
   "execution_count": null,
   "id": "2e4b0b6a-4b95-40d8-b2e5-ef84cc9c748a",
   "metadata": {},
   "outputs": [],
   "source": [
    "!python -m pip install snap-stanford"
   ]
  },
  {
   "cell_type": "code",
   "execution_count": 7,
   "id": "7252e336-cd0a-45f6-b2df-553cb6dad377",
   "metadata": {},
   "outputs": [],
   "source": [
    "import snap\n",
    "\n",
    "\n",
    "snap_G = snap.LoadEdgeList(snap.PNGraph,  # 생성할 그래프 유형(PNGraph: 무향 그래프, TNGraph: 유향 그래프)\n",
    "                      \"../data_raw/snap/amazon0302/amazon0302.txt\",  # 간선 목록이 포함된 입력 파일\n",
    "                      SrcColId=0, DstColId=1,  # SrcColId / DstColId: 근원(Src)/타겟(Dst) 노드 ID가 있는 열의 인덱스\n",
    "                      Separator=\"\\t\")  # Separator: 입력 파일에서 필드를 구분하는 기호"
   ]
  },
  {
   "cell_type": "markdown",
   "id": "9f8f6dd0-b642-4fd0-b269-94636a8a9e17",
   "metadata": {},
   "source": [
    "# 파이썬 snap 그래프를 networkx 그래프로 변환"
   ]
  },
  {
   "cell_type": "code",
   "execution_count": 9,
   "id": "83e30ec0-4259-4dc0-8f05-099ba06afa37",
   "metadata": {},
   "outputs": [],
   "source": [
    "def snap2networkx(snap_G):\n",
    "    \"\"\"\n",
    "    snap 그래프를 networkx 그래프로 변환하는 함수\n",
    "    \n",
    "    Args:\n",
    "        snap_G: snap 그래프 객체 (snap.PNGraph, snap.TNGraph 등)\n",
    "    \n",
    "    Returns:\n",
    "        nx_G: networkx 그래프 객체\n",
    "    \"\"\"\n",
    "    \n",
    "    # networkx 그래프 객체 생성\n",
    "    if isinstance(snap_G, snap.TNGraph):  # 유향 그래프\n",
    "        nx_G = nx.DiGraph()\n",
    "    else:  # 무향 그래프\n",
    "        nx_G = nx.Graph()\n",
    "    \n",
    "    # 노드 추가\n",
    "    for node in snap_G.Nodes():\n",
    "        nx_G.add_node(node.GetId())\n",
    "    \n",
    "    # 간선 추가\n",
    "    for edge in snap_G.Edges():\n",
    "        nx_G.add_edge(edge.GetSrcNId(), edge.GetDstNId())  # 근원(Src)/타겟(Dst) 노드 ID (NId)\n",
    "    \n",
    "    return nx_G\n",
    "\n",
    "\n",
    "nx_G = snap2networkx(snap_G)  # snap_G: snap 그래프, nx_G: networkx 그래프"
   ]
  },
  {
   "cell_type": "markdown",
   "id": "9c725fdc-b664-491b-ada3-3bc0bc4a746a",
   "metadata": {},
   "source": [
    "---"
   ]
  }
 ],
 "metadata": {
  "kernelspec": {
   "display_name": "Python 3 (ipykernel)",
   "language": "python",
   "name": "python3"
  },
  "language_info": {
   "codemirror_mode": {
    "name": "ipython",
    "version": 3
   },
   "file_extension": ".py",
   "mimetype": "text/x-python",
   "name": "python",
   "nbconvert_exporter": "python",
   "pygments_lexer": "ipython3",
   "version": "3.9.13"
  }
 },
 "nbformat": 4,
 "nbformat_minor": 5
}
