{
 "cells": [
  {
   "cell_type": "markdown",
   "id": "a6d3142b-06c3-4128-9120-989e4852f2e0",
   "metadata": {},
   "source": [
    "# MTX (Matrix Market Exchange Format) 파일 형식"
   ]
  },
  {
   "cell_type": "code",
   "execution_count": 12,
   "id": "76f220a5-a120-4347-80e5-40b300d7324a",
   "metadata": {},
   "outputs": [
    {
     "name": "stdout",
     "output_type": "stream",
     "text": [
      "그래프 위수 (노드 개수): 16706\n",
      "그래프 크기 (간선 개수): 121251\n"
     ]
    }
   ],
   "source": [
    "from scipy.io import mmread\n",
    "import networkx as nx\n",
    "\n",
    "\n",
    "matrix = mmread(\"../data/network_repository/astro-ph/astro-ph.mtx\")  # mtx 파일 읽기\n",
    "G = nx.from_scipy_sparse_array(matrix)  # scipy matrix를 networkx 형식으로 변환\n",
    "\n",
    "print(f\"그래프 위수 (노드 개수): {G.order()}\")\n",
    "print(f\"그래프 크기 (간선 개수): {G.size()}\")"
   ]
  },
  {
   "cell_type": "code",
   "execution_count": null,
   "id": "65eb73f9-4f00-4904-a686-b1d507b7f4da",
   "metadata": {},
   "outputs": [],
   "source": [
    "betweenness_centrality = nx.centrality.betweenness_centrality(G)  # 매개 중심성"
   ]
  },
  {
   "cell_type": "code",
   "execution_count": null,
   "id": "3b77cea6-dfa2-40f8-8580-10b4dad0fd04",
   "metadata": {},
   "outputs": [],
   "source": [
    "import pandas as pd\n",
    "\n",
    "\n",
    "stats = pd.DataFrame({\n",
    "    \"betweenness_centrality\": betweenness_centrality,\n",
    "    \"C_i\": nx.clustering(G),  # 지역 군집 계수\n",
    "    \"degree\": nx.degree(G)  # 노드 차수\n",
    "})"
   ]
  },
  {
   "cell_type": "code",
   "execution_count": null,
   "id": "8b19f486-4a56-4712-9d41-e5bb3c133392",
   "metadata": {},
   "outputs": [],
   "source": []
  }
 ],
 "metadata": {
  "kernelspec": {
   "display_name": "Python 3 (ipykernel)",
   "language": "python",
   "name": "python3"
  },
  "language_info": {
   "codemirror_mode": {
    "name": "ipython",
    "version": 3
   },
   "file_extension": ".py",
   "mimetype": "text/x-python",
   "name": "python",
   "nbconvert_exporter": "python",
   "pygments_lexer": "ipython3",
   "version": "3.9.13"
  }
 },
 "nbformat": 4,
 "nbformat_minor": 5
}
